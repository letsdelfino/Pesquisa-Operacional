{
 "cells": [
  {
   "cell_type": "code",
   "execution_count": 1,
   "id": "1e71b85c",
   "metadata": {},
   "outputs": [],
   "source": [
    "#Importing library that will be used\n",
    "import numpy as np\n",
    "from fractions import Fraction as frac"
   ]
  },
  {
   "cell_type": "code",
   "execution_count": 16,
   "id": "f9ef4a67",
   "metadata": {},
   "outputs": [],
   "source": [
    "#Function to calculate the inverse of a matrix\n",
    "def inverse(A):\n",
    "    print ('Nossa matriz original A:\\n',A)\n",
    "    \n",
    "    #Using the function np.linal.inv(x) to find the inverse.\n",
    "    A_inverse = np.linalg.inv(A)\n",
    "    #print (A_inverse)\n",
    "    #Printing the matrix transofrtming decimal numbers into fractions\n",
    "    for i in range(2):\n",
    "        for j in range(2):\n",
    "            A_inverse[i][j]=frac(A_inverse[i][j])\n",
    "    print('\\nMatriz inversa A(-1):\\n',A_inverse)\n",
    "    #Finding the inverse of A(-1)\n",
    "    A_inverse = np.linalg.inv(A_inverse)\n",
    "    print('O inverso de A(-1): \\n', A_inverse)\n",
    "    # E find the original matrix here"
   ]
  },
  {
   "cell_type": "code",
   "execution_count": 17,
   "id": "4a10e2e3",
   "metadata": {},
   "outputs": [
    {
     "name": "stdout",
     "output_type": "stream",
     "text": [
      "Nossa matriz original A:\n",
      " [[1 1 1]\n",
      " [2 1 4]\n",
      " [2 3 5]]\n",
      "\n",
      "Matriz inversa A(-1):\n",
      " [[ 1.4  0.4 -0.6]\n",
      " [ 0.4 -0.6  0.4]\n",
      " [-0.8  0.2  0.2]]\n",
      "O inverso de A(-1): \n",
      " [[1. 1. 1.]\n",
      " [2. 1. 4.]\n",
      " [2. 3. 5.]]\n"
     ]
    }
   ],
   "source": [
    "#Instantiating the matrix\n",
    "A = np.array([[1,1,1],[2,1,4],[2,3,5]])\n",
    "\n",
    "inverse(A)\n",
    "\n",
    "# Na matriz exemplo do arquivo envado pelo professor o código do matlab faz a inversão da matriz olhando para a matriz identidade."
   ]
  },
  {
   "cell_type": "code",
   "execution_count": null,
   "id": "4b001695",
   "metadata": {},
   "outputs": [],
   "source": []
  }
 ],
 "metadata": {
  "kernelspec": {
   "display_name": "Python 3",
   "language": "python",
   "name": "python3"
  },
  "language_info": {
   "codemirror_mode": {
    "name": "ipython",
    "version": 3
   },
   "file_extension": ".py",
   "mimetype": "text/x-python",
   "name": "python",
   "nbconvert_exporter": "python",
   "pygments_lexer": "ipython3",
   "version": "3.8.8"
  }
 },
 "nbformat": 4,
 "nbformat_minor": 5
}
