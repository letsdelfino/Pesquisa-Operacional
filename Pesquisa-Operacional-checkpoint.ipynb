{
 "cells": [
  {
   "cell_type": "code",
   "execution_count": 7,
   "id": "1e71b85c",
   "metadata": {},
   "outputs": [],
   "source": [
    "#Importing library that will be used\n",
    "import numpy as np\n",
    "from fractions import Fraction as frac"
   ]
  },
  {
   "cell_type": "code",
   "execution_count": 36,
   "id": "f9ef4a67",
   "metadata": {},
   "outputs": [],
   "source": [
    "#Function to calculate the inverse of a matrix\n",
    "def inverse(A):\n",
    "    print ('Nossa matriz original:\\n',A)\n",
    "    #Copying the matriz to an auxiliar to calcute the inverse\n",
    "    B = A\n",
    "    #Using the function np.linal.inv(x) to find the inverse.\n",
    "    A_inverse = np.linalg.inv(A)\n",
    "    print (A_inverse)"
   ]
  },
  {
   "cell_type": "code",
   "execution_count": 37,
   "id": "4a10e2e3",
   "metadata": {},
   "outputs": [
    {
     "name": "stdout",
     "output_type": "stream",
     "text": [
      "Nossa matriz original:\n",
      " [[1 1 1]\n",
      " [2 1 4]\n",
      " [2 3 5]]\n",
      "[[ 1.4  0.4 -0.6]\n",
      " [ 0.4 -0.6  0.4]\n",
      " [-0.8  0.2  0.2]]\n"
     ]
    }
   ],
   "source": [
    "#Instantiating the matrix\n",
    "A = np.array([[1,1,1],[2,1,4],[2,3,5]])\n",
    "\n",
    "inverse(A)"
   ]
  },
  {
   "cell_type": "code",
   "execution_count": null,
   "id": "4b001695",
   "metadata": {},
   "outputs": [],
   "source": []
  }
 ],
 "metadata": {
  "kernelspec": {
   "display_name": "Python 3",
   "language": "python",
   "name": "python3"
  },
  "language_info": {
   "codemirror_mode": {
    "name": "ipython",
    "version": 3
   },
   "file_extension": ".py",
   "mimetype": "text/x-python",
   "name": "python",
   "nbconvert_exporter": "python",
   "pygments_lexer": "ipython3",
   "version": "3.8.8"
  }
 },
 "nbformat": 4,
 "nbformat_minor": 5
}
